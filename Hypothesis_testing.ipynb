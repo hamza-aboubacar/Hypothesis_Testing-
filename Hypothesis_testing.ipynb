{
  "nbformat": 4,
  "nbformat_minor": 0,
  "metadata": {
    "colab": {
      "provenance": []
    },
    "kernelspec": {
      "name": "python3",
      "display_name": "Python 3"
    },
    "language_info": {
      "name": "python"
    }
  },
  "cells": [
    {
      "cell_type": "code",
      "execution_count": 3,
      "metadata": {
        "colab": {
          "base_uri": "https://localhost:8080/",
          "height": 0
        },
        "id": "c1gpQkUs-85t",
        "outputId": "ca8efe24-11f5-4018-a285-040480f3b93b"
      },
      "outputs": [
        {
          "output_type": "stream",
          "name": "stdout",
          "text": [
            "Hypothesis Testing results:\n",
            "Theoretical Mean Weekly Operating Cost: Rs4000\n",
            "Sample Mean Weekly Operating Cost: Rs3050\n",
            "Test Statistic (t): -38.0\n",
            "Critical Value (t): 1.64\n",
            "Decision:Fail to reject the null hypothesis\n",
            "conclusion: there is insufficient evidence to support the restaurant owners' claim that the weekly operating costs are higher than the model suggests.\n"
          ]
        }
      ],
      "source": [
        "from scipy import stats\n",
        "import math\n",
        "\n",
        "# step 1: Define hypotheses\n",
        "# Null hypothesis (H0): the mean weekly operating cost is equal to The theoretical weekly operating cost\n",
        "# Alternative hypothesis (H1): Teh mean weekly operating cost is greater than the theoretical weekly operating cost\n",
        "\n",
        "# Given Data\n",
        "sample_size=25\n",
        "sample_mean=3050\n",
        "X=600\n",
        "theoretical_base_cost = 1000+5*X\n",
        "\n",
        "sigma=5*25\n",
        "alpha=0.05\n",
        "\n",
        "# Step 2: Calculate the test statistic (t)\n",
        "t_statistic=(sample_mean-theoretical_base_cost)/(sigma/math.sqrt(sample_size))\n",
        "\n",
        "# Step 3: Determine the critical value (t_critical)\n",
        "t_critical=stats.norm.ppf(1-alpha)\n",
        "\n",
        "# step 4:Make a decision\n",
        "reject_null=t_statistic>t_critical\n",
        "if reject_null:\n",
        "    Decision=\"Reject the null hypothesis\"\n",
        "    conclusion=\"there is strong evidence to support the restaurant owners' claim that the weekly operating costs are higher than the model suggests.\"\n",
        "else:\n",
        "    Decision=\"Fail to reject the null hypothesis\"\n",
        "    conclusion=\"there is insufficient evidence to support the restaurant owners' claim that the weekly operating costs are higher than the model suggests.\"\n",
        "\n",
        "print(\"Hypothesis Testing results:\")\n",
        "print(f\"Theoretical Mean Weekly Operating Cost: Rs{theoretical_base_cost}\")\n",
        "print(f\"Sample Mean Weekly Operating Cost: Rs{sample_mean}\")\n",
        "print(f\"Test Statistic (t): {t_statistic}\")\n",
        "print(f\"Critical Value (t): {t_critical:.2f}\")\n",
        "print(f'Decision:{Decision}')\n",
        "print(f'conclusion: {conclusion}')"
      ]
    },
    {
      "cell_type": "code",
      "source": [],
      "metadata": {
        "id": "S16poCFH_EUr"
      },
      "execution_count": null,
      "outputs": []
    }
  ]
}